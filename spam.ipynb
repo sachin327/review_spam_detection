{
  "nbformat": 4,
  "nbformat_minor": 0,
  "metadata": {
    "colab": {
      "name": "Untitled29.ipynb",
      "provenance": []
    },
    "kernelspec": {
      "name": "python3",
      "display_name": "Python 3"
    }
  },
  "cells": [
    {
      "cell_type": "code",
      "metadata": {
        "id": "fOyfvSCfjBAq"
      },
      "source": [
        "import numpy as np\r\n",
        "import pandas as pd\r\n",
        "from matplotlib import pyplot as plt\r\n",
        "from sklearn.metrics.pairwise import cosine_similarity\r\n",
        "from sklearn.feature_extraction.text import CountVectorizer"
      ],
      "execution_count": null,
      "outputs": []
    },
    {
      "cell_type": "code",
      "metadata": {
        "id": "C5Yz5uAwTOgY"
      },
      "source": [
        "def similar_content(review,dict_):\r\n",
        "  list_=[]\r\n",
        "  list_.append(review)\r\n",
        "  temp=[]\r\n",
        "  for i in dict_.keys():\r\n",
        "    list_.append(dict_[i])\r\n",
        "    temp.append(i)\r\n",
        "  # instantiating and generating the count matrix\r\n",
        "  count = CountVectorizer()\r\n",
        "  count_matrix = count.fit_transform(list_)\r\n",
        "  c=cosine_similarity(count_matrix)\r\n",
        "  d=np.sort(c[0])[::-1]\r\n",
        "  e=np.argsort(c[0])[::-1]\r\n",
        "  if (e[1]==0):\r\n",
        "    e[1]=1\r\n",
        "  result=[]\r\n",
        "  for i in range (1,len(d)):\r\n",
        "    if (d[i]>=0.5):\r\n",
        "      result.append(temp[e[i]-1]) \r\n",
        "  return result\r\n"
      ],
      "execution_count": null,
      "outputs": []
    },
    {
      "cell_type": "code",
      "metadata": {
        "id": "o2Gqy1_EUC51"
      },
      "source": [
        "dict_={1:'If the review posted by the specified conditions then it will be considered as spam/fake reviews',2:'bb aa','3':'cc'}\r\n",
        "review='If the review posted by the user satisfies any of the above specified conditions then it will be considered as spam/fake reviews.'"
      ],
      "execution_count": null,
      "outputs": []
    },
    {
      "cell_type": "code",
      "metadata": {
        "colab": {
          "base_uri": "https://localhost:8080/"
        },
        "id": "eCQI-gb2V6RB",
        "outputId": "914b9084-f116-4c54-9ed0-d20f21ced822"
      },
      "source": [
        "similar_content(review,dict_)"
      ],
      "execution_count": null,
      "outputs": [
        {
          "output_type": "execute_result",
          "data": {
            "text/plain": [
              "[1]"
            ]
          },
          "metadata": {
            "tags": []
          },
          "execution_count": 107
        }
      ]
    },
    {
      "cell_type": "code",
      "metadata": {
        "id": "_1Qs-ZrCcs0R"
      },
      "source": [
        "def KMPSearch(pat, txt): \r\n",
        "\t\r\n",
        "\tM = len(pat) \r\n",
        "\tN = len(txt) \r\n",
        "\r\n",
        "\tlps = [None] * M \r\n",
        "\tj = 0 # index for pat[] \r\n",
        "\r\n",
        "\tcomputeLPSArray(pat, M, lps) \r\n",
        "\r\n",
        "\ti = 0 # index for txt[] \r\n",
        "\tres = 0\r\n",
        "\tnext_i = 0\r\n",
        "\r\n",
        "\twhile (i < N): \r\n",
        "\t\tif pat[j] == txt[i]: \r\n",
        "\t\t\tj = j + 1\r\n",
        "\t\t\ti = i + 1\r\n",
        "\t\tif j == M: \r\n",
        "\t\t\t\r\n",
        "\t\t\tj = lps[j - 1] \r\n",
        "\t\t\tres = res + 1\r\n",
        "\r\n",
        "\t\t\tif lps[j] != 0: \r\n",
        "\t\t\t\tnext_i = next_i + 1\r\n",
        "\t\t\t\ti = next_i \r\n",
        "\t\t\t\tj = 0\r\n",
        "\r\n",
        "\t\telif ((i < N) and (pat[j] != txt[i])): \r\n",
        "\t\t\t\r\n",
        "\t\t\tif (j != 0): \r\n",
        "\t\t\t\tj = lps[j - 1] \r\n",
        "\t\t\telse: \r\n",
        "\t\t\t\ti = i + 1\r\n",
        "\t\t\t\t\r\n",
        "\treturn res \r\n",
        "\t\r\n",
        "def computeLPSArray(pat, M, lps): \r\n",
        "\t\r\n",
        "\tlen = 0\r\n",
        "\ti = 1\r\n",
        "\tlps[0] = 0 # lps[0] is always 0 \r\n",
        "\r\n",
        "\twhile (i < M): \r\n",
        "\t\tif pat[i] == pat[len]: \r\n",
        "\t\t\tlen = len + 1\r\n",
        "\t\t\tlps[i] = len\r\n",
        "\t\t\ti = i + 1\r\n",
        "\t\t\t\r\n",
        "\t\telse: # (pat[i] != pat[len]) \r\n",
        "\t\t\r\n",
        "\t\t\tif len != 0: \r\n",
        "\t\t\t\tlen = lps[len - 1] \r\n",
        "\t\t\t\t\r\n",
        "\t\t\telse: # if (len == 0) \r\n",
        "\t\t\t\tlps[i] = len\r\n",
        "\t\t\t\ti = i + 1"
      ],
      "execution_count": null,
      "outputs": []
    },
    {
      "cell_type": "code",
      "metadata": {
        "colab": {
          "base_uri": "https://localhost:8080/"
        },
        "id": "0a770pVTdIGe",
        "outputId": "1d342428-0049-4c68-aa13-dcda40e58b50"
      },
      "source": [
        "review = \"geeks for geeks\"\r\n",
        "product = \"geeks\"\r\n",
        "ans = KMPSearch(product, review) \r\n",
        "print(ans) \r\n"
      ],
      "execution_count": null,
      "outputs": [
        {
          "output_type": "stream",
          "text": [
            "2\n"
          ],
          "name": "stdout"
        }
      ]
    },
    {
      "cell_type": "code",
      "metadata": {
        "id": "qJfifB8UlOTm"
      },
      "source": [
        "def similar_time(dict_):\r\n",
        "  result=[]\r\n",
        "  dict_[prodt]=time_\r\n",
        "  for i in dict_.keys():\r\n",
        "    if (len(dict_[i])>3):\r\n",
        "      result.append(i)\r\n",
        "  return result\r\n"
      ],
      "execution_count": null,
      "outputs": []
    },
    {
      "cell_type": "code",
      "metadata": {
        "id": "n67HCBg1tkkA"
      },
      "source": [
        "$$$\tFree membership\tPotential earnings\r\n",
        "4U\tFree money\tPrint form signature\r\n",
        "Accept credit cards\tFree offer\tPrint out and fax\r\n",
        "Act now! Don’t hesitate!\tFree preview\tProduced and sent out\r\n",
        "Additional income\tFree priority mail\tProfits\r\n",
        "Addresses on CD\tFree quote\tPromise you!\r\n",
        "All natural\tFree sample\tPure profit\r\n",
        "Amazing\tFree trial\tReal thing\r\n",
        "Apply Online\tFree website\tRefinance home\r\n",
        "As seen on\tFull refund\tRemoval instructions\r\n",
        "Auto email removal\tGet It Now\tRemove in quotes\r\n",
        "Avoid bankruptcy\tGet paid\tRemove subject\r\n",
        "Be amazed\tGet started now\tRemoves wrinkles\r\n",
        "Be your own boss\tGift certificate\tReply remove subject\r\n",
        "Being a member\tGreat offer\tRequires initial investment\r\n",
        "Big bucks\tGuarantee\tReserves the right\r\n",
        "Bill 1618\tHave you been turned down?\tReverses aging\r\n",
        "Billing address\tJoin millions of Americans\tRisk free\r\n",
        "Billion dollars\tLaser printer\tRound the world\r\n",
        "Brand new pager\tLimited time only\tS 1618\r\n",
        "Bulk email\tLong distance phone offer\tSafeguard notice\r\n",
        "Buy direct\tLose weight spam\tSatisfaction guaranteed\r\n",
        "Buying judgments\tLower interest rates\tSave $\r\n",
        "Cable converter\tLower monthly payment\tSave big money\r\n",
        "Call free\tLowest price\tSave up to\r\n",
        "Call now\tLuxury car\tScore with babes\r\n",
        "Calling creditors\tMail in order form\tSection 301\r\n",
        "Can’t live without\tMarketing solutions\tSee for yourself\r\n",
        "Cancel at any time\tMass email\tSent in compliance\r\n",
        "Cannot be combined with any other offer\tMeet singles\tSerious cash\r\n",
        "Cash bonus\tMember stuff\tSerious only\r\n",
        "Cashcashcash\tMessage contains disclaimer\tShopping spree\r\n",
        "Casino\tMLM\tSign up free today\r\n",
        "Cell phone cancer scam\tMoney back\tSocial security number\r\n",
        "Cents on the dollar\tMoney making\tSpecial promotion\r\n",
        "Check or money order\tMonth trial offer\tStainless steel\r\n",
        "Click below\tMore Internet traffic\tStock alert\r\n",
        "Click here link\tMortgage rates\tStock disclaimer statement\r\n",
        "Click to remove\tMulti level marketing\tStock pick\r\n",
        "Click to remove mailto\tName brand\tStop snoring\r\n",
        "Compare rates\tNew customers only\tStrong buy\r\n",
        "Compete for your business\tNew domain extensions\tStuff on sale\r\n",
        "Confidentially on all orders\tNigerian\tSubject to credit\r\n",
        "Congratulations\tNo age restrictions\tSupplies are limited\r\n",
        "Consolidate debt and credit\tNo catch\tTake action now\r\n",
        "Copy accurately\tNo claim forms\tTalks about hidden charges\r\n",
        "Copy DVDs\tNo cost\tTalks about prizes\r\n",
        "Credit bureaus\tNo credit check\tTells you it’s an ad\r\n",
        "Credit card offers\tNo disappointment\tTerms and conditions\r\n",
        "Cures baldness\tNo experience\tThe best rates\r\n",
        "Dear email\tNo fees\tThe following form\r\n",
        "Dear friend\tNo gimmick\tThey keep your money- no refund!\r\n",
        "Dear somebody\tNo inventory\tThey’re just giving it away\r\n",
        "Different reply to\tNo investment\tThis isn’t junk\r\n",
        "Dig up dirt on friends\tNo medical exams\tThis isn’t spam\r\n",
        "Direct email\tNo middleman\tUniversity diplomas\r\n",
        "Direct marketing\tNo obligation\tUnlimited\r\n",
        "Discusses search engine listings\tNo purchase necessary\tUnsecured credit/debt\r\n",
        "Do it today\tNo questions asked\tUrgent\r\n",
        "Don’t delete\tNo selling\tUS dollars\r\n",
        "Drastically reduced\tNo strings attached\tVacation offers\r\n",
        "Earn per week\tNot intended\tViagra and other drugs\r\n",
        "Easy terms\tOff shore\tWants credit card\r\n",
        "Eliminate bad credit\tOffer expires\tWe hate spam\r\n",
        "Email harvest\tOffers coupon\tWe honor all\r\n",
        "Email marketing\tOffers extra cash\tWeekend getaway\r\n",
        "Expect to earn\tOffers free (often stolen) passwords\tWhat are you waiting for?\r\n",
        "Fantastic deal\tOnce in lifetime\tWhile supplies last\r\n",
        "Fast Viagra delivery\tOne hundred percent free\tWhile you sleep\r\n",
        "Financial freedom\tOne hundred percent guaranteed\tWho really wins?\r\n",
        "Find out anything\tOne time mailing\tWhy pay more?\r\n",
        "For free\tOnline biz opportunity\tWill not believe your eyes\r\n",
        "For instant access\tOnline pharmacy\tWinner\r\n",
        "For just $ (some amt)\tOnly $\tWinning\r\n",
        "Free access\tOpportunity\tWork at home\r\n",
        "Free cell phone\tOpt in\tYou are a winner\r\n",
        "Free consultation\tOrder now\tYou have been selected\r\n",
        "Free DVD\tOrder status\tYour income\r\n",
        "Free grant money\tOrders shipped by priority mail\t\r\n",
        "Free hosting\tOutstanding values\t\r\n",
        "Free installation\tPennies a day\t\r\n",
        "Free investment\tPeople just leave money laying around\t\r\n",
        "Free leads\tPlease read"
      ],
      "execution_count": null,
      "outputs": []
    }
  ]
}